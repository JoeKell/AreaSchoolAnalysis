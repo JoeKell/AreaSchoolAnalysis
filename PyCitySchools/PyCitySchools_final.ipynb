{
 "cells": [
  {
   "cell_type": "markdown",
   "metadata": {},
   "source": [
    "### Note\n",
    "* Instructions have been included for each segment. You do not have to follow them exactly, but they are included to help you think through the steps."
   ]
  },
  {
   "cell_type": "code",
   "execution_count": 2,
   "metadata": {},
   "outputs": [],
   "source": [
    "# Dependencies and Setup\n",
    "import pandas as pd\n",
    "\n",
    "# File to Load (Remember to Change These)\n",
    "school_data_to_load = \"Resources/schools_complete.csv\"\n",
    "student_data_to_load = \"Resources/students_complete.csv\"\n",
    "\n",
    "# Read School and Student Data File and store into Pandas DataFrames\n",
    "school_data = pd.read_csv(school_data_to_load)\n",
    "student_data = pd.read_csv(student_data_to_load)\n",
    "\n",
    "# Combine the data into a single dataset.  \n",
    "school_data_complete = pd.merge(student_data, school_data, how=\"left\", on=[\"school_name\"])\n",
    "school_data_complete = school_data_complete.rename(columns={\"school_name\":\"School Name\", \"type\": \"School Type\", \"size\": \"Total Students\",\"budget\": \"Total School Budget\"}).reset_index(drop=True)\n",
    "\n",
    "#Ensuring that the data is complete\n",
    "#student_data.count()"
   ]
  },
  {
   "cell_type": "markdown",
   "metadata": {},
   "source": [
    "## District Summary\n",
    "\n",
    "* Calculate the total number of schools\n",
    "\n",
    "* Calculate the total number of students\n",
    "\n",
    "* Calculate the total budget\n",
    "\n",
    "* Calculate the average math score \n",
    "\n",
    "* Calculate the average reading score\n",
    "\n",
    "* Calculate the percentage of students with a passing math score (70 or greater)\n",
    "\n",
    "* Calculate the percentage of students with a passing reading score (70 or greater)\n",
    "\n",
    "* Calculate the percentage of students who passed math **and** reading (% Overall Passing)\n",
    "\n",
    "* Create a dataframe to hold the above results\n",
    "\n",
    "* Optional: give the displayed data cleaner formatting"
   ]
  },
  {
   "cell_type": "code",
   "execution_count": 3,
   "metadata": {},
   "outputs": [
    {
     "output_type": "execute_result",
     "data": {
      "text/plain": [
       "   Total Schools Total Students    Total Budget Average Math Score  \\\n",
       "0             15         39,170  $24,649,428.00              78.99   \n",
       "\n",
       "  Average Reading Score Percent Passing Math Percent Passing Reading  \\\n",
       "0                 81.88              74.981%                 85.805%   \n",
       "\n",
       "  Percent Passing Overall  \n",
       "0                 65.172%  "
      ],
      "text/html": "<div>\n<style scoped>\n    .dataframe tbody tr th:only-of-type {\n        vertical-align: middle;\n    }\n\n    .dataframe tbody tr th {\n        vertical-align: top;\n    }\n\n    .dataframe thead th {\n        text-align: right;\n    }\n</style>\n<table border=\"1\" class=\"dataframe\">\n  <thead>\n    <tr style=\"text-align: right;\">\n      <th></th>\n      <th>Total Schools</th>\n      <th>Total Students</th>\n      <th>Total Budget</th>\n      <th>Average Math Score</th>\n      <th>Average Reading Score</th>\n      <th>Percent Passing Math</th>\n      <th>Percent Passing Reading</th>\n      <th>Percent Passing Overall</th>\n    </tr>\n  </thead>\n  <tbody>\n    <tr>\n      <th>0</th>\n      <td>15</td>\n      <td>39,170</td>\n      <td>$24,649,428.00</td>\n      <td>78.99</td>\n      <td>81.88</td>\n      <td>74.981%</td>\n      <td>85.805%</td>\n      <td>65.172%</td>\n    </tr>\n  </tbody>\n</table>\n</div>"
     },
     "metadata": {},
     "execution_count": 3
    }
   ],
   "source": [
    "#Storing Values to make the data frame more readable\n",
    "Total_Students=student_data[\"Student ID\"].count()\n",
    "Students_Passing_Math=student_data.loc[student_data[\"math_score\"]>=70,:][\"Student ID\"].count()\n",
    "Total_Math_Score=student_data[\"math_score\"].sum()\n",
    "Students_Passing_Reading=student_data.loc[student_data[\"reading_score\"]>=70,:][\"Student ID\"].count()\n",
    "Total_Reading_Score=student_data[\"reading_score\"].sum()\n",
    "Students_Passing_Both=student_data.loc[(student_data[\"reading_score\"]>=70) & (student_data[\"math_score\"]>=70),:][\"Student ID\"].count()\n",
    "\n",
    "#District Data Frame\n",
    "District_Summary_df = pd.DataFrame({\n",
    "    \"Total Schools\": [school_data[\"school_name\"].count()],\n",
    "    \"Total Students\": [Total_Students],\n",
    "    \"Total Budget\": [school_data[\"budget\"].sum()],\n",
    "    \"Average Math Score\": [Total_Math_Score/Total_Students],\n",
    "    \"Average Reading Score\": [Total_Reading_Score/Total_Students],\n",
    "    \"Percent Passing Math\": [Students_Passing_Math/Total_Students*100],\n",
    "    \"Percent Passing Reading\": [Students_Passing_Reading/Total_Students*100],\n",
    "    \"Percent Passing Overall\": [Students_Passing_Both/Total_Students*100]\n",
    "})\n",
    "\n",
    "#Cleaning the Data Frame\n",
    "Clean_District=District_Summary_df\n",
    "Clean_District[\"Total Students\"]=Clean_District[\"Total Students\"].map(\"{:,}\".format)\n",
    "Clean_District[\"Total Budget\"]=Clean_District[\"Total Budget\"].map(\"${:,.2f}\".format)\n",
    "Clean_District[\"Average Math Score\"]=Clean_District[\"Average Math Score\"].map(\"{:.2f}\".format)\n",
    "Clean_District[\"Average Reading Score\"]=Clean_District[\"Average Reading Score\"].map(\"{:.2f}\".format)\n",
    "Clean_District[\"Percent Passing Math\"]=Clean_District[\"Percent Passing Math\"].map(\"{:.3f}%\".format)\n",
    "Clean_District[\"Percent Passing Reading\"]=Clean_District[\"Percent Passing Reading\"].map(\"{:.3f}%\".format)\n",
    "Clean_District[\"Percent Passing Overall\"]=Clean_District[\"Percent Passing Overall\"].map(\"{:.3f}%\".format)\n",
    "\n",
    "Clean_District"
   ]
  },
  {
   "cell_type": "markdown",
   "metadata": {},
   "source": [
    "## School Summary"
   ]
  },
  {
   "cell_type": "markdown",
   "metadata": {},
   "source": [
    "* Create an overview table that summarizes key metrics about each school, including:\n",
    "  * School Name\n",
    "  * School Type\n",
    "  * Total Students\n",
    "  * Total School Budget\n",
    "  * Per Student Budget\n",
    "  * Average Math Score\n",
    "  * Average Reading Score\n",
    "  * % Passing Math\n",
    "  * % Passing Reading\n",
    "  * % Overall Passing (The percentage of students that passed math **and** reading.)\n",
    "  \n",
    "* Create a dataframe to hold the above results"
   ]
  },
  {
   "cell_type": "code",
   "execution_count": 4,
   "metadata": {},
   "outputs": [
    {
     "output_type": "execute_result",
     "data": {
      "text/plain": [
       "              School Name School Type Total Students Total School Budget  \\\n",
       "0      Bailey High School    District          4,976       $3,124,928.00   \n",
       "1     Cabrera High School     Charter          1,858       $1,081,356.00   \n",
       "2    Figueroa High School    District          2,949       $1,884,411.00   \n",
       "3        Ford High School    District          2,739       $1,763,916.00   \n",
       "4     Griffin High School     Charter          1,468         $917,500.00   \n",
       "5   Hernandez High School    District          4,635       $3,022,020.00   \n",
       "6      Holden High School     Charter            427         $248,087.00   \n",
       "7       Huang High School    District          2,917       $1,910,635.00   \n",
       "8     Johnson High School    District          4,761       $3,094,650.00   \n",
       "9        Pena High School     Charter            962         $585,858.00   \n",
       "10  Rodriguez High School    District          3,999       $2,547,363.00   \n",
       "11    Shelton High School     Charter          1,761       $1,056,600.00   \n",
       "12     Thomas High School     Charter          1,635       $1,043,130.00   \n",
       "13     Wilson High School     Charter          2,283       $1,319,574.00   \n",
       "14     Wright High School     Charter          1,800       $1,049,400.00   \n",
       "\n",
       "   Per Student Budget Average Math Score Average Reading Score  \\\n",
       "0             $628.00             77.048                81.034   \n",
       "1             $582.00             83.062                83.976   \n",
       "2             $639.00             76.712                81.158   \n",
       "3             $644.00             77.103                80.746   \n",
       "4             $625.00             83.351                83.817   \n",
       "5             $652.00             77.290                80.934   \n",
       "6             $581.00             83.803                83.815   \n",
       "7             $655.00             76.629                81.183   \n",
       "8             $650.00             77.072                80.966   \n",
       "9             $609.00             83.840                84.045   \n",
       "10            $637.00             76.843                80.745   \n",
       "11            $600.00             83.359                83.726   \n",
       "12            $638.00             83.418                83.849   \n",
       "13            $578.00             83.274                83.989   \n",
       "14            $583.00             83.682                83.955   \n",
       "\n",
       "   Percent Passing Math Percent Passing Reading Percent Overall Passing  \n",
       "0               66.680%                 81.933%                 54.642%  \n",
       "1               94.133%                 97.040%                 91.335%  \n",
       "2               65.988%                 80.739%                 53.204%  \n",
       "3               68.310%                 79.299%                 54.290%  \n",
       "4               93.392%                 97.139%                 90.599%  \n",
       "5               66.753%                 80.863%                 53.528%  \n",
       "6               92.506%                 96.253%                 89.227%  \n",
       "7               65.684%                 81.316%                 53.514%  \n",
       "8               66.058%                 81.222%                 53.539%  \n",
       "9               94.595%                 95.946%                 90.541%  \n",
       "10              66.367%                 80.220%                 52.988%  \n",
       "11              93.867%                 95.855%                 89.892%  \n",
       "12              93.272%                 97.309%                 90.948%  \n",
       "13              93.868%                 96.540%                 90.583%  \n",
       "14              93.333%                 96.611%                 90.333%  "
      ],
      "text/html": "<div>\n<style scoped>\n    .dataframe tbody tr th:only-of-type {\n        vertical-align: middle;\n    }\n\n    .dataframe tbody tr th {\n        vertical-align: top;\n    }\n\n    .dataframe thead th {\n        text-align: right;\n    }\n</style>\n<table border=\"1\" class=\"dataframe\">\n  <thead>\n    <tr style=\"text-align: right;\">\n      <th></th>\n      <th>School Name</th>\n      <th>School Type</th>\n      <th>Total Students</th>\n      <th>Total School Budget</th>\n      <th>Per Student Budget</th>\n      <th>Average Math Score</th>\n      <th>Average Reading Score</th>\n      <th>Percent Passing Math</th>\n      <th>Percent Passing Reading</th>\n      <th>Percent Overall Passing</th>\n    </tr>\n  </thead>\n  <tbody>\n    <tr>\n      <th>0</th>\n      <td>Bailey High School</td>\n      <td>District</td>\n      <td>4,976</td>\n      <td>$3,124,928.00</td>\n      <td>$628.00</td>\n      <td>77.048</td>\n      <td>81.034</td>\n      <td>66.680%</td>\n      <td>81.933%</td>\n      <td>54.642%</td>\n    </tr>\n    <tr>\n      <th>1</th>\n      <td>Cabrera High School</td>\n      <td>Charter</td>\n      <td>1,858</td>\n      <td>$1,081,356.00</td>\n      <td>$582.00</td>\n      <td>83.062</td>\n      <td>83.976</td>\n      <td>94.133%</td>\n      <td>97.040%</td>\n      <td>91.335%</td>\n    </tr>\n    <tr>\n      <th>2</th>\n      <td>Figueroa High School</td>\n      <td>District</td>\n      <td>2,949</td>\n      <td>$1,884,411.00</td>\n      <td>$639.00</td>\n      <td>76.712</td>\n      <td>81.158</td>\n      <td>65.988%</td>\n      <td>80.739%</td>\n      <td>53.204%</td>\n    </tr>\n    <tr>\n      <th>3</th>\n      <td>Ford High School</td>\n      <td>District</td>\n      <td>2,739</td>\n      <td>$1,763,916.00</td>\n      <td>$644.00</td>\n      <td>77.103</td>\n      <td>80.746</td>\n      <td>68.310%</td>\n      <td>79.299%</td>\n      <td>54.290%</td>\n    </tr>\n    <tr>\n      <th>4</th>\n      <td>Griffin High School</td>\n      <td>Charter</td>\n      <td>1,468</td>\n      <td>$917,500.00</td>\n      <td>$625.00</td>\n      <td>83.351</td>\n      <td>83.817</td>\n      <td>93.392%</td>\n      <td>97.139%</td>\n      <td>90.599%</td>\n    </tr>\n    <tr>\n      <th>5</th>\n      <td>Hernandez High School</td>\n      <td>District</td>\n      <td>4,635</td>\n      <td>$3,022,020.00</td>\n      <td>$652.00</td>\n      <td>77.290</td>\n      <td>80.934</td>\n      <td>66.753%</td>\n      <td>80.863%</td>\n      <td>53.528%</td>\n    </tr>\n    <tr>\n      <th>6</th>\n      <td>Holden High School</td>\n      <td>Charter</td>\n      <td>427</td>\n      <td>$248,087.00</td>\n      <td>$581.00</td>\n      <td>83.803</td>\n      <td>83.815</td>\n      <td>92.506%</td>\n      <td>96.253%</td>\n      <td>89.227%</td>\n    </tr>\n    <tr>\n      <th>7</th>\n      <td>Huang High School</td>\n      <td>District</td>\n      <td>2,917</td>\n      <td>$1,910,635.00</td>\n      <td>$655.00</td>\n      <td>76.629</td>\n      <td>81.183</td>\n      <td>65.684%</td>\n      <td>81.316%</td>\n      <td>53.514%</td>\n    </tr>\n    <tr>\n      <th>8</th>\n      <td>Johnson High School</td>\n      <td>District</td>\n      <td>4,761</td>\n      <td>$3,094,650.00</td>\n      <td>$650.00</td>\n      <td>77.072</td>\n      <td>80.966</td>\n      <td>66.058%</td>\n      <td>81.222%</td>\n      <td>53.539%</td>\n    </tr>\n    <tr>\n      <th>9</th>\n      <td>Pena High School</td>\n      <td>Charter</td>\n      <td>962</td>\n      <td>$585,858.00</td>\n      <td>$609.00</td>\n      <td>83.840</td>\n      <td>84.045</td>\n      <td>94.595%</td>\n      <td>95.946%</td>\n      <td>90.541%</td>\n    </tr>\n    <tr>\n      <th>10</th>\n      <td>Rodriguez High School</td>\n      <td>District</td>\n      <td>3,999</td>\n      <td>$2,547,363.00</td>\n      <td>$637.00</td>\n      <td>76.843</td>\n      <td>80.745</td>\n      <td>66.367%</td>\n      <td>80.220%</td>\n      <td>52.988%</td>\n    </tr>\n    <tr>\n      <th>11</th>\n      <td>Shelton High School</td>\n      <td>Charter</td>\n      <td>1,761</td>\n      <td>$1,056,600.00</td>\n      <td>$600.00</td>\n      <td>83.359</td>\n      <td>83.726</td>\n      <td>93.867%</td>\n      <td>95.855%</td>\n      <td>89.892%</td>\n    </tr>\n    <tr>\n      <th>12</th>\n      <td>Thomas High School</td>\n      <td>Charter</td>\n      <td>1,635</td>\n      <td>$1,043,130.00</td>\n      <td>$638.00</td>\n      <td>83.418</td>\n      <td>83.849</td>\n      <td>93.272%</td>\n      <td>97.309%</td>\n      <td>90.948%</td>\n    </tr>\n    <tr>\n      <th>13</th>\n      <td>Wilson High School</td>\n      <td>Charter</td>\n      <td>2,283</td>\n      <td>$1,319,574.00</td>\n      <td>$578.00</td>\n      <td>83.274</td>\n      <td>83.989</td>\n      <td>93.868%</td>\n      <td>96.540%</td>\n      <td>90.583%</td>\n    </tr>\n    <tr>\n      <th>14</th>\n      <td>Wright High School</td>\n      <td>Charter</td>\n      <td>1,800</td>\n      <td>$1,049,400.00</td>\n      <td>$583.00</td>\n      <td>83.682</td>\n      <td>83.955</td>\n      <td>93.333%</td>\n      <td>96.611%</td>\n      <td>90.333%</td>\n    </tr>\n  </tbody>\n</table>\n</div>"
     },
     "metadata": {},
     "execution_count": 4
    }
   ],
   "source": [
    "#Creating a grouped object for me to retrieve aggregate values from\n",
    "school_group=school_data_complete.groupby([\"School Name\"])\n",
    "math_group=school_data_complete.loc[school_data_complete[\"math_score\"]>=70,:].groupby([\"School Name\"])\n",
    "reading_group=school_data_complete.loc[school_data_complete[\"reading_score\"]>=70,:].groupby([\"School Name\"])\n",
    "overall_group=school_data_complete.loc[(school_data_complete[\"reading_score\"]>=70) & (school_data_complete[\"math_score\"]>=70),:].groupby([\"School Name\"])\n",
    "\n",
    "#Building out the basic part of the DF, School Name, School Type, Total Students, Total Budget and Budget per student\n",
    "school_summary=school_data.drop(columns=['School ID']).sort_values([\"school_name\"])\n",
    "school_summary=school_summary.rename(columns={\"school_name\":\"School Name\", \"type\": \"School Type\", \"size\": \"Total Students\",\"budget\": \"Total School Budget\"}).reset_index(drop=True)\n",
    "school_summary[\"Per Student Budget\"]=(school_summary[\"Total School Budget\"]/school_summary[\"Total Students\"]).map(\"${:,.2f}\".format)\n",
    "\n",
    "#Adding in Average Math and Reading Scores\n",
    "school_summary=pd.merge(school_summary,school_group[\"math_score\"].sum(),on=\"School Name\")\n",
    "school_summary=pd.merge(school_summary,school_group[\"reading_score\"].sum(),on=\"School Name\")\n",
    "school_summary[\"Average Math Score\"]=(school_summary[\"math_score\"]/school_summary[\"Total Students\"]).map(\"{:.3f}\".format)\n",
    "school_summary[\"Average Reading Score\"]=(school_summary[\"reading_score\"]/school_summary[\"Total Students\"]).map(\"{:.3f}\".format)\n",
    "school_summary=school_summary.drop(columns=[\"math_score\",\"reading_score\"])\n",
    "\n",
    "#Adding in % passing for 3 categories\n",
    "school_summary=pd.merge(school_summary,math_group[\"Student ID\"].count(),on=\"School Name\")\n",
    "school_summary[\"Percent Passing Math\"]=(school_summary[\"Student ID\"]/school_summary[\"Total Students\"]*100).map(\"{:.3f}%\".format)\n",
    "school_summary=school_summary.drop(columns=[\"Student ID\"])\n",
    "\n",
    "school_summary=pd.merge(school_summary,reading_group[\"Student ID\"].count(),on=\"School Name\")\n",
    "school_summary[\"Percent Passing Reading\"]=(school_summary[\"Student ID\"]/school_summary[\"Total Students\"]*100).map(\"{:.3f}%\".format)\n",
    "school_summary=school_summary.drop(columns=[\"Student ID\"])\n",
    "\n",
    "school_summary=pd.merge(school_summary,overall_group[\"Student ID\"].count(),on=\"School Name\")\n",
    "school_summary[\"Percent Overall Passing\"]=(school_summary[\"Student ID\"]/school_summary[\"Total Students\"]*100).map(\"{:.3f}%\".format)\n",
    "school_summary=school_summary.drop(columns=[\"Student ID\"])\n",
    "\n",
    "#Cleaning up the format of the original columns\n",
    "school_summary[\"Total Students\"]=school_summary[\"Total Students\"].map(\"{:,}\".format)\n",
    "school_summary[\"Total School Budget\"]=school_summary[\"Total School Budget\"].map(\"${:,.2f}\".format)\n",
    "\n",
    "school_summary"
   ]
  },
  {
   "cell_type": "markdown",
   "metadata": {},
   "source": [
    "## Top Performing Schools (By % Overall Passing)"
   ]
  },
  {
   "cell_type": "markdown",
   "metadata": {},
   "source": [
    "* Sort and display the top five performing schools by % overall passing."
   ]
  },
  {
   "cell_type": "code",
   "execution_count": 5,
   "metadata": {},
   "outputs": [
    {
     "output_type": "execute_result",
     "data": {
      "text/plain": [
       "           School Name School Type Total Students Total School Budget  \\\n",
       "0  Cabrera High School     Charter          1,858       $1,081,356.00   \n",
       "1   Thomas High School     Charter          1,635       $1,043,130.00   \n",
       "2  Griffin High School     Charter          1,468         $917,500.00   \n",
       "3   Wilson High School     Charter          2,283       $1,319,574.00   \n",
       "4     Pena High School     Charter            962         $585,858.00   \n",
       "\n",
       "  Per Student Budget Average Math Score Average Reading Score  \\\n",
       "0            $582.00             83.062                83.976   \n",
       "1            $638.00             83.418                83.849   \n",
       "2            $625.00             83.351                83.817   \n",
       "3            $578.00             83.274                83.989   \n",
       "4            $609.00             83.840                84.045   \n",
       "\n",
       "  Percent Passing Math Percent Passing Reading Percent Overall Passing  \n",
       "0              94.133%                 97.040%                 91.335%  \n",
       "1              93.272%                 97.309%                 90.948%  \n",
       "2              93.392%                 97.139%                 90.599%  \n",
       "3              93.868%                 96.540%                 90.583%  \n",
       "4              94.595%                 95.946%                 90.541%  "
      ],
      "text/html": "<div>\n<style scoped>\n    .dataframe tbody tr th:only-of-type {\n        vertical-align: middle;\n    }\n\n    .dataframe tbody tr th {\n        vertical-align: top;\n    }\n\n    .dataframe thead th {\n        text-align: right;\n    }\n</style>\n<table border=\"1\" class=\"dataframe\">\n  <thead>\n    <tr style=\"text-align: right;\">\n      <th></th>\n      <th>School Name</th>\n      <th>School Type</th>\n      <th>Total Students</th>\n      <th>Total School Budget</th>\n      <th>Per Student Budget</th>\n      <th>Average Math Score</th>\n      <th>Average Reading Score</th>\n      <th>Percent Passing Math</th>\n      <th>Percent Passing Reading</th>\n      <th>Percent Overall Passing</th>\n    </tr>\n  </thead>\n  <tbody>\n    <tr>\n      <th>0</th>\n      <td>Cabrera High School</td>\n      <td>Charter</td>\n      <td>1,858</td>\n      <td>$1,081,356.00</td>\n      <td>$582.00</td>\n      <td>83.062</td>\n      <td>83.976</td>\n      <td>94.133%</td>\n      <td>97.040%</td>\n      <td>91.335%</td>\n    </tr>\n    <tr>\n      <th>1</th>\n      <td>Thomas High School</td>\n      <td>Charter</td>\n      <td>1,635</td>\n      <td>$1,043,130.00</td>\n      <td>$638.00</td>\n      <td>83.418</td>\n      <td>83.849</td>\n      <td>93.272%</td>\n      <td>97.309%</td>\n      <td>90.948%</td>\n    </tr>\n    <tr>\n      <th>2</th>\n      <td>Griffin High School</td>\n      <td>Charter</td>\n      <td>1,468</td>\n      <td>$917,500.00</td>\n      <td>$625.00</td>\n      <td>83.351</td>\n      <td>83.817</td>\n      <td>93.392%</td>\n      <td>97.139%</td>\n      <td>90.599%</td>\n    </tr>\n    <tr>\n      <th>3</th>\n      <td>Wilson High School</td>\n      <td>Charter</td>\n      <td>2,283</td>\n      <td>$1,319,574.00</td>\n      <td>$578.00</td>\n      <td>83.274</td>\n      <td>83.989</td>\n      <td>93.868%</td>\n      <td>96.540%</td>\n      <td>90.583%</td>\n    </tr>\n    <tr>\n      <th>4</th>\n      <td>Pena High School</td>\n      <td>Charter</td>\n      <td>962</td>\n      <td>$585,858.00</td>\n      <td>$609.00</td>\n      <td>83.840</td>\n      <td>84.045</td>\n      <td>94.595%</td>\n      <td>95.946%</td>\n      <td>90.541%</td>\n    </tr>\n  </tbody>\n</table>\n</div>"
     },
     "metadata": {},
     "execution_count": 5
    }
   ],
   "source": [
    "school_summary.sort_values([\"Percent Overall Passing\"],ascending=False,ignore_index=True).head()"
   ]
  },
  {
   "cell_type": "markdown",
   "metadata": {},
   "source": [
    "## Bottom Performing Schools (By % Overall Passing)"
   ]
  },
  {
   "cell_type": "markdown",
   "metadata": {},
   "source": [
    "* Sort and display the five worst-performing schools by % overall passing."
   ]
  },
  {
   "cell_type": "code",
   "execution_count": 6,
   "metadata": {},
   "outputs": [
    {
     "output_type": "execute_result",
     "data": {
      "text/plain": [
       "             School Name School Type Total Students Total School Budget  \\\n",
       "0  Rodriguez High School    District          3,999       $2,547,363.00   \n",
       "1   Figueroa High School    District          2,949       $1,884,411.00   \n",
       "2      Huang High School    District          2,917       $1,910,635.00   \n",
       "3  Hernandez High School    District          4,635       $3,022,020.00   \n",
       "4    Johnson High School    District          4,761       $3,094,650.00   \n",
       "\n",
       "  Per Student Budget Average Math Score Average Reading Score  \\\n",
       "0            $637.00             76.843                80.745   \n",
       "1            $639.00             76.712                81.158   \n",
       "2            $655.00             76.629                81.183   \n",
       "3            $652.00             77.290                80.934   \n",
       "4            $650.00             77.072                80.966   \n",
       "\n",
       "  Percent Passing Math Percent Passing Reading Percent Overall Passing  \n",
       "0              66.367%                 80.220%                 52.988%  \n",
       "1              65.988%                 80.739%                 53.204%  \n",
       "2              65.684%                 81.316%                 53.514%  \n",
       "3              66.753%                 80.863%                 53.528%  \n",
       "4              66.058%                 81.222%                 53.539%  "
      ],
      "text/html": "<div>\n<style scoped>\n    .dataframe tbody tr th:only-of-type {\n        vertical-align: middle;\n    }\n\n    .dataframe tbody tr th {\n        vertical-align: top;\n    }\n\n    .dataframe thead th {\n        text-align: right;\n    }\n</style>\n<table border=\"1\" class=\"dataframe\">\n  <thead>\n    <tr style=\"text-align: right;\">\n      <th></th>\n      <th>School Name</th>\n      <th>School Type</th>\n      <th>Total Students</th>\n      <th>Total School Budget</th>\n      <th>Per Student Budget</th>\n      <th>Average Math Score</th>\n      <th>Average Reading Score</th>\n      <th>Percent Passing Math</th>\n      <th>Percent Passing Reading</th>\n      <th>Percent Overall Passing</th>\n    </tr>\n  </thead>\n  <tbody>\n    <tr>\n      <th>0</th>\n      <td>Rodriguez High School</td>\n      <td>District</td>\n      <td>3,999</td>\n      <td>$2,547,363.00</td>\n      <td>$637.00</td>\n      <td>76.843</td>\n      <td>80.745</td>\n      <td>66.367%</td>\n      <td>80.220%</td>\n      <td>52.988%</td>\n    </tr>\n    <tr>\n      <th>1</th>\n      <td>Figueroa High School</td>\n      <td>District</td>\n      <td>2,949</td>\n      <td>$1,884,411.00</td>\n      <td>$639.00</td>\n      <td>76.712</td>\n      <td>81.158</td>\n      <td>65.988%</td>\n      <td>80.739%</td>\n      <td>53.204%</td>\n    </tr>\n    <tr>\n      <th>2</th>\n      <td>Huang High School</td>\n      <td>District</td>\n      <td>2,917</td>\n      <td>$1,910,635.00</td>\n      <td>$655.00</td>\n      <td>76.629</td>\n      <td>81.183</td>\n      <td>65.684%</td>\n      <td>81.316%</td>\n      <td>53.514%</td>\n    </tr>\n    <tr>\n      <th>3</th>\n      <td>Hernandez High School</td>\n      <td>District</td>\n      <td>4,635</td>\n      <td>$3,022,020.00</td>\n      <td>$652.00</td>\n      <td>77.290</td>\n      <td>80.934</td>\n      <td>66.753%</td>\n      <td>80.863%</td>\n      <td>53.528%</td>\n    </tr>\n    <tr>\n      <th>4</th>\n      <td>Johnson High School</td>\n      <td>District</td>\n      <td>4,761</td>\n      <td>$3,094,650.00</td>\n      <td>$650.00</td>\n      <td>77.072</td>\n      <td>80.966</td>\n      <td>66.058%</td>\n      <td>81.222%</td>\n      <td>53.539%</td>\n    </tr>\n  </tbody>\n</table>\n</div>"
     },
     "metadata": {},
     "execution_count": 6
    }
   ],
   "source": [
    "school_summary.sort_values([\"Percent Overall Passing\"],ignore_index=True).head()"
   ]
  },
  {
   "cell_type": "markdown",
   "metadata": {
    "collapsed": true
   },
   "source": [
    "## Math Scores by Grade"
   ]
  },
  {
   "cell_type": "markdown",
   "metadata": {},
   "source": [
    "* Create a table that lists the average Reading Score for students of each grade level (9th, 10th, 11th, 12th) at each school.\n",
    "\n",
    "  * Create a pandas series for each grade. Hint: use a conditional statement.\n",
    "  \n",
    "  * Group each series by school\n",
    "  \n",
    "  * Combine the series into a dataframe\n",
    "  \n",
    "  * Optional: give the displayed data cleaner formatting"
   ]
  },
  {
   "cell_type": "code",
   "execution_count": 7,
   "metadata": {},
   "outputs": [
    {
     "output_type": "execute_result",
     "data": {
      "text/plain": [
       "                          9th    10th    11th    12th\n",
       "School Name                                          \n",
       "Bailey High School     77.084  76.997  77.516  76.492\n",
       "Cabrera High School    83.095  83.155  82.766  83.277\n",
       "Figueroa High School   76.403  76.540  76.884  77.151\n",
       "Ford High School       77.361  77.672  76.918  76.180\n",
       "Griffin High School    82.044  84.229  83.842  83.356\n",
       "Hernandez High School  77.438  77.337  77.136  77.187\n",
       "Holden High School     83.787  83.430  85.000  82.855\n",
       "Huang High School      77.027  75.909  76.447  77.226\n",
       "Johnson High School    77.188  76.691  77.492  76.863\n",
       "Pena High School       83.625  83.372  84.328  84.122\n",
       "Rodriguez High School  76.860  76.612  76.396  77.691\n",
       "Shelton High School    83.421  82.917  83.383  83.779\n",
       "Thomas High School     83.590  83.088  83.499  83.497\n",
       "Wilson High School     83.086  83.724  83.195  83.036\n",
       "Wright High School     83.265  84.010  83.837  83.645"
      ],
      "text/html": "<div>\n<style scoped>\n    .dataframe tbody tr th:only-of-type {\n        vertical-align: middle;\n    }\n\n    .dataframe tbody tr th {\n        vertical-align: top;\n    }\n\n    .dataframe thead th {\n        text-align: right;\n    }\n</style>\n<table border=\"1\" class=\"dataframe\">\n  <thead>\n    <tr style=\"text-align: right;\">\n      <th></th>\n      <th>9th</th>\n      <th>10th</th>\n      <th>11th</th>\n      <th>12th</th>\n    </tr>\n    <tr>\n      <th>School Name</th>\n      <th></th>\n      <th></th>\n      <th></th>\n      <th></th>\n    </tr>\n  </thead>\n  <tbody>\n    <tr>\n      <th>Bailey High School</th>\n      <td>77.084</td>\n      <td>76.997</td>\n      <td>77.516</td>\n      <td>76.492</td>\n    </tr>\n    <tr>\n      <th>Cabrera High School</th>\n      <td>83.095</td>\n      <td>83.155</td>\n      <td>82.766</td>\n      <td>83.277</td>\n    </tr>\n    <tr>\n      <th>Figueroa High School</th>\n      <td>76.403</td>\n      <td>76.540</td>\n      <td>76.884</td>\n      <td>77.151</td>\n    </tr>\n    <tr>\n      <th>Ford High School</th>\n      <td>77.361</td>\n      <td>77.672</td>\n      <td>76.918</td>\n      <td>76.180</td>\n    </tr>\n    <tr>\n      <th>Griffin High School</th>\n      <td>82.044</td>\n      <td>84.229</td>\n      <td>83.842</td>\n      <td>83.356</td>\n    </tr>\n    <tr>\n      <th>Hernandez High School</th>\n      <td>77.438</td>\n      <td>77.337</td>\n      <td>77.136</td>\n      <td>77.187</td>\n    </tr>\n    <tr>\n      <th>Holden High School</th>\n      <td>83.787</td>\n      <td>83.430</td>\n      <td>85.000</td>\n      <td>82.855</td>\n    </tr>\n    <tr>\n      <th>Huang High School</th>\n      <td>77.027</td>\n      <td>75.909</td>\n      <td>76.447</td>\n      <td>77.226</td>\n    </tr>\n    <tr>\n      <th>Johnson High School</th>\n      <td>77.188</td>\n      <td>76.691</td>\n      <td>77.492</td>\n      <td>76.863</td>\n    </tr>\n    <tr>\n      <th>Pena High School</th>\n      <td>83.625</td>\n      <td>83.372</td>\n      <td>84.328</td>\n      <td>84.122</td>\n    </tr>\n    <tr>\n      <th>Rodriguez High School</th>\n      <td>76.860</td>\n      <td>76.612</td>\n      <td>76.396</td>\n      <td>77.691</td>\n    </tr>\n    <tr>\n      <th>Shelton High School</th>\n      <td>83.421</td>\n      <td>82.917</td>\n      <td>83.383</td>\n      <td>83.779</td>\n    </tr>\n    <tr>\n      <th>Thomas High School</th>\n      <td>83.590</td>\n      <td>83.088</td>\n      <td>83.499</td>\n      <td>83.497</td>\n    </tr>\n    <tr>\n      <th>Wilson High School</th>\n      <td>83.086</td>\n      <td>83.724</td>\n      <td>83.195</td>\n      <td>83.036</td>\n    </tr>\n    <tr>\n      <th>Wright High School</th>\n      <td>83.265</td>\n      <td>84.010</td>\n      <td>83.837</td>\n      <td>83.645</td>\n    </tr>\n  </tbody>\n</table>\n</div>"
     },
     "metadata": {},
     "execution_count": 7
    }
   ],
   "source": [
    "#All calculated inline from the merged table at the beginning of the notebook\n",
    "math_df = pd.DataFrame({\n",
    "    \"9th\": (school_data_complete.loc[school_data_complete[\"grade\"]=='9th',:].groupby([\"School Name\"])[\"math_score\"].sum()/school_data_complete.loc[school_data_complete[\"grade\"]=='9th',:].groupby([\"School Name\"])[\"math_score\"].count()).map(\"{:.3f}\".format),\n",
    "    \"10th\": (school_data_complete.loc[school_data_complete[\"grade\"]=='10th',:].groupby([\"School Name\"])[\"math_score\"].sum()/school_data_complete.loc[school_data_complete[\"grade\"]=='10th',:].groupby([\"School Name\"])[\"math_score\"].count()).map(\"{:.3f}\".format),\n",
    "    \"11th\":(school_data_complete.loc[school_data_complete[\"grade\"]=='11th',:].groupby([\"School Name\"])[\"math_score\"].sum()/school_data_complete.loc[school_data_complete[\"grade\"]=='11th',:].groupby([\"School Name\"])[\"math_score\"].count()).map(\"{:.3f}\".format),\n",
    "    \"12th\":(school_data_complete.loc[school_data_complete[\"grade\"]=='12th',:].groupby([\"School Name\"])[\"math_score\"].sum()/school_data_complete.loc[school_data_complete[\"grade\"]=='12th',:].groupby([\"School Name\"])[\"math_score\"].count()).map(\"{:.3f}\".format)\n",
    "})\n",
    "math_df"
   ]
  },
  {
   "cell_type": "markdown",
   "metadata": {},
   "source": [
    "## Reading Score by Grade "
   ]
  },
  {
   "cell_type": "markdown",
   "metadata": {},
   "source": [
    "* Perform the same operations as above for reading scores"
   ]
  },
  {
   "cell_type": "code",
   "execution_count": 8,
   "metadata": {},
   "outputs": [
    {
     "output_type": "execute_result",
     "data": {
      "text/plain": [
       "                          9th    10th    11th    12th\n",
       "School Name                                          \n",
       "Bailey High School     81.303  80.907  80.946  80.912\n",
       "Cabrera High School    83.676  84.253  83.788  84.288\n",
       "Figueroa High School   81.199  81.409  80.640  81.385\n",
       "Ford High School       80.633  81.263  80.404  80.662\n",
       "Griffin High School    83.369  83.707  84.288  84.014\n",
       "Hernandez High School  80.867  80.660  81.396  80.857\n",
       "Holden High School     83.677  83.325  83.816  84.699\n",
       "Huang High School      81.290  81.512  81.417  80.306\n",
       "Johnson High School    81.261  80.773  80.616  81.228\n",
       "Pena High School       83.807  83.612  84.336  84.591\n",
       "Rodriguez High School  80.993  80.630  80.865  80.376\n",
       "Shelton High School    84.123  83.442  84.374  82.782\n",
       "Thomas High School     83.729  84.254  83.586  83.831\n",
       "Wilson High School     83.940  84.021  83.765  84.318\n",
       "Wright High School     83.833  83.813  84.156  84.073"
      ],
      "text/html": "<div>\n<style scoped>\n    .dataframe tbody tr th:only-of-type {\n        vertical-align: middle;\n    }\n\n    .dataframe tbody tr th {\n        vertical-align: top;\n    }\n\n    .dataframe thead th {\n        text-align: right;\n    }\n</style>\n<table border=\"1\" class=\"dataframe\">\n  <thead>\n    <tr style=\"text-align: right;\">\n      <th></th>\n      <th>9th</th>\n      <th>10th</th>\n      <th>11th</th>\n      <th>12th</th>\n    </tr>\n    <tr>\n      <th>School Name</th>\n      <th></th>\n      <th></th>\n      <th></th>\n      <th></th>\n    </tr>\n  </thead>\n  <tbody>\n    <tr>\n      <th>Bailey High School</th>\n      <td>81.303</td>\n      <td>80.907</td>\n      <td>80.946</td>\n      <td>80.912</td>\n    </tr>\n    <tr>\n      <th>Cabrera High School</th>\n      <td>83.676</td>\n      <td>84.253</td>\n      <td>83.788</td>\n      <td>84.288</td>\n    </tr>\n    <tr>\n      <th>Figueroa High School</th>\n      <td>81.199</td>\n      <td>81.409</td>\n      <td>80.640</td>\n      <td>81.385</td>\n    </tr>\n    <tr>\n      <th>Ford High School</th>\n      <td>80.633</td>\n      <td>81.263</td>\n      <td>80.404</td>\n      <td>80.662</td>\n    </tr>\n    <tr>\n      <th>Griffin High School</th>\n      <td>83.369</td>\n      <td>83.707</td>\n      <td>84.288</td>\n      <td>84.014</td>\n    </tr>\n    <tr>\n      <th>Hernandez High School</th>\n      <td>80.867</td>\n      <td>80.660</td>\n      <td>81.396</td>\n      <td>80.857</td>\n    </tr>\n    <tr>\n      <th>Holden High School</th>\n      <td>83.677</td>\n      <td>83.325</td>\n      <td>83.816</td>\n      <td>84.699</td>\n    </tr>\n    <tr>\n      <th>Huang High School</th>\n      <td>81.290</td>\n      <td>81.512</td>\n      <td>81.417</td>\n      <td>80.306</td>\n    </tr>\n    <tr>\n      <th>Johnson High School</th>\n      <td>81.261</td>\n      <td>80.773</td>\n      <td>80.616</td>\n      <td>81.228</td>\n    </tr>\n    <tr>\n      <th>Pena High School</th>\n      <td>83.807</td>\n      <td>83.612</td>\n      <td>84.336</td>\n      <td>84.591</td>\n    </tr>\n    <tr>\n      <th>Rodriguez High School</th>\n      <td>80.993</td>\n      <td>80.630</td>\n      <td>80.865</td>\n      <td>80.376</td>\n    </tr>\n    <tr>\n      <th>Shelton High School</th>\n      <td>84.123</td>\n      <td>83.442</td>\n      <td>84.374</td>\n      <td>82.782</td>\n    </tr>\n    <tr>\n      <th>Thomas High School</th>\n      <td>83.729</td>\n      <td>84.254</td>\n      <td>83.586</td>\n      <td>83.831</td>\n    </tr>\n    <tr>\n      <th>Wilson High School</th>\n      <td>83.940</td>\n      <td>84.021</td>\n      <td>83.765</td>\n      <td>84.318</td>\n    </tr>\n    <tr>\n      <th>Wright High School</th>\n      <td>83.833</td>\n      <td>83.813</td>\n      <td>84.156</td>\n      <td>84.073</td>\n    </tr>\n  </tbody>\n</table>\n</div>"
     },
     "metadata": {},
     "execution_count": 8
    }
   ],
   "source": [
    "#All calculated inline from the merged table at the beginning of the notebook\n",
    "reading_df = pd.DataFrame({\n",
    "    \"9th\": (school_data_complete.loc[school_data_complete[\"grade\"]=='9th',:].groupby([\"School Name\"])[\"reading_score\"].sum()/school_data_complete.loc[school_data_complete[\"grade\"]=='9th',:].groupby([\"School Name\"])[\"reading_score\"].count()).map(\"{:.3f}\".format),\n",
    "    \"10th\": (school_data_complete.loc[school_data_complete[\"grade\"]=='10th',:].groupby([\"School Name\"])[\"reading_score\"].sum()/school_data_complete.loc[school_data_complete[\"grade\"]=='10th',:].groupby([\"School Name\"])[\"reading_score\"].count()).map(\"{:.3f}\".format),\n",
    "    \"11th\":(school_data_complete.loc[school_data_complete[\"grade\"]=='11th',:].groupby([\"School Name\"])[\"reading_score\"].sum()/school_data_complete.loc[school_data_complete[\"grade\"]=='11th',:].groupby([\"School Name\"])[\"reading_score\"].count()).map(\"{:.3f}\".format),\n",
    "    \"12th\":(school_data_complete.loc[school_data_complete[\"grade\"]=='12th',:].groupby([\"School Name\"])[\"reading_score\"].sum()/school_data_complete.loc[school_data_complete[\"grade\"]=='12th',:].groupby([\"School Name\"])[\"reading_score\"].count()).map(\"{:.3f}\".format)\n",
    "})\n",
    "reading_df"
   ]
  },
  {
   "cell_type": "markdown",
   "metadata": {},
   "source": [
    "## Scores by School Spending"
   ]
  },
  {
   "cell_type": "markdown",
   "metadata": {},
   "source": [
    "* Create a table that breaks down school performances based on average Spending Ranges (Per Student). Use 4 reasonable bins to group school spending. Include in the table each of the following:\n",
    "  * Average Math Score\n",
    "  * Average Reading Score\n",
    "  * % Passing Math\n",
    "  * % Passing Reading\n",
    "  * Overall Passing Rate (Average of the above two)"
   ]
  },
  {
   "cell_type": "code",
   "execution_count": 26,
   "metadata": {},
   "outputs": [
    {
     "output_type": "execute_result",
     "data": {
      "text/plain": [
       "                Average Math Score Average Reading Score Percent Passing Math  \\\n",
       "Budget Category                                                                 \n",
       "Low                         83.413                83.950              93.611%   \n",
       "Medium-Low                  83.529                83.838              94.124%   \n",
       "Medium-High                 78.484                81.668              72.765%   \n",
       "High                        77.419                81.147              68.335%   \n",
       "\n",
       "                Percent Passing Reading Percent Passing Overall  \n",
       "Budget Category                                                  \n",
       "Low                             96.769%                 90.673%  \n",
       "Medium-Low                      95.887%                 90.121%  \n",
       "Medium-High                     85.397%                 62.834%  \n",
       "High                            81.824%                 56.074%  "
      ],
      "text/html": "<div>\n<style scoped>\n    .dataframe tbody tr th:only-of-type {\n        vertical-align: middle;\n    }\n\n    .dataframe tbody tr th {\n        vertical-align: top;\n    }\n\n    .dataframe thead th {\n        text-align: right;\n    }\n</style>\n<table border=\"1\" class=\"dataframe\">\n  <thead>\n    <tr style=\"text-align: right;\">\n      <th></th>\n      <th>Average Math Score</th>\n      <th>Average Reading Score</th>\n      <th>Percent Passing Math</th>\n      <th>Percent Passing Reading</th>\n      <th>Percent Passing Overall</th>\n    </tr>\n    <tr>\n      <th>Budget Category</th>\n      <th></th>\n      <th></th>\n      <th></th>\n      <th></th>\n      <th></th>\n    </tr>\n  </thead>\n  <tbody>\n    <tr>\n      <th>Low</th>\n      <td>83.413</td>\n      <td>83.950</td>\n      <td>93.611%</td>\n      <td>96.769%</td>\n      <td>90.673%</td>\n    </tr>\n    <tr>\n      <th>Medium-Low</th>\n      <td>83.529</td>\n      <td>83.838</td>\n      <td>94.124%</td>\n      <td>95.887%</td>\n      <td>90.121%</td>\n    </tr>\n    <tr>\n      <th>Medium-High</th>\n      <td>78.484</td>\n      <td>81.668</td>\n      <td>72.765%</td>\n      <td>85.397%</td>\n      <td>62.834%</td>\n    </tr>\n    <tr>\n      <th>High</th>\n      <td>77.419</td>\n      <td>81.147</td>\n      <td>68.335%</td>\n      <td>81.824%</td>\n      <td>56.074%</td>\n    </tr>\n  </tbody>\n</table>\n</div>"
     },
     "metadata": {},
     "execution_count": 26
    }
   ],
   "source": [
    "#Duplicate the School Data Complete\n",
    "School_Spending=school_data_complete\n",
    "School_Spending[\"Per Student Budget\"]=School_Spending[\"Total School Budget\"]/School_Spending[\"Total Students\"]\n",
    "\n",
    "#Creating evenly disributed bins\n",
    "minimum=School_Spending[\"Per Student Budget\"].min()\n",
    "maximum=School_Spending[\"Per Student Budget\"].max()\n",
    "diff=(maximum-minimum)/4\n",
    "bins=[minimum]\n",
    "for i in range(1,4):\n",
    "    bins.append(minimum+i*diff)\n",
    "bins.append(maximum)\n",
    "Budget_Category=[\"Low\",\"Medium-Low\",\"Medium-High\",\"High\"]\n",
    "\n",
    "\n",
    "#Add the bins to our data\n",
    "School_Spending[\"Budget Category\"]=pd.cut(School_Spending[\"Per Student Budget\"],bins,labels=Budget_Category,include_lowest=False)\n",
    "Spending_Group=School_Spending.groupby([\"Budget Category\"])\n",
    "\n",
    "#Data frame to display results\n",
    "spending_df = pd.DataFrame({\n",
    "    \"Average Math Score\": Spending_Group[\"math_score\"].mean().map(\"{:.3f}\".format),\n",
    "    \"Average Reading Score\": Spending_Group[\"reading_score\"].mean().map(\"{:.3f}\".format),\n",
    "    \"Percent Passing Math\":(School_Spending.loc[School_Spending[\"math_score\"]>=70,:].groupby([\"Budget Category\"])[\"Student ID\"].count()/Spending_Group[\"Student ID\"].count()*100).map(\"{:.3f}%\".format),\n",
    "    \"Percent Passing Reading\":(School_Spending.loc[School_Spending[\"reading_score\"]>=70,:].groupby([\"Budget Category\"])[\"Student ID\"].count()/Spending_Group[\"Student ID\"].count()*100).map(\"{:.3f}%\".format),\n",
    "    \"Percent Passing Overall\":(School_Spending.loc[(School_Spending[\"reading_score\"]>=70) & (School_Spending[\"math_score\"]>=70),:].groupby([\"Budget Category\"])[\"Student ID\"].count()/Spending_Group[\"Student ID\"].count()*100).map(\"{:.3f}%\".format)\n",
    "})\n",
    "\n",
    "\n",
    "spending_df"
   ]
  },
  {
   "cell_type": "markdown",
   "metadata": {},
   "source": [
    "## Scores by School Size"
   ]
  },
  {
   "cell_type": "markdown",
   "metadata": {},
   "source": [
    "* Perform the same operations as above, based on school size."
   ]
  },
  {
   "cell_type": "code",
   "execution_count": 22,
   "metadata": {
    "scrolled": true
   },
   "outputs": [
    {
     "data": {
      "text/html": [
       "<div>\n",
       "<style scoped>\n",
       "    .dataframe tbody tr th:only-of-type {\n",
       "        vertical-align: middle;\n",
       "    }\n",
       "\n",
       "    .dataframe tbody tr th {\n",
       "        vertical-align: top;\n",
       "    }\n",
       "\n",
       "    .dataframe thead th {\n",
       "        text-align: right;\n",
       "    }\n",
       "</style>\n",
       "<table border=\"1\" class=\"dataframe\">\n",
       "  <thead>\n",
       "    <tr style=\"text-align: right;\">\n",
       "      <th></th>\n",
       "      <th>Average Math Score</th>\n",
       "      <th>Average Reading Score</th>\n",
       "      <th>% Passing Math</th>\n",
       "      <th>% Passing Reading</th>\n",
       "      <th>% Overall Passing</th>\n",
       "    </tr>\n",
       "    <tr>\n",
       "      <th>School Size</th>\n",
       "      <th></th>\n",
       "      <th></th>\n",
       "      <th></th>\n",
       "      <th></th>\n",
       "      <th></th>\n",
       "    </tr>\n",
       "  </thead>\n",
       "  <tbody>\n",
       "    <tr>\n",
       "      <th>Small (&lt;1000)</th>\n",
       "      <td>83.821598</td>\n",
       "      <td>83.929843</td>\n",
       "      <td>93.550225</td>\n",
       "      <td>96.099437</td>\n",
       "      <td>89.883853</td>\n",
       "    </tr>\n",
       "    <tr>\n",
       "      <th>Medium (1000-2000)</th>\n",
       "      <td>83.374684</td>\n",
       "      <td>83.864438</td>\n",
       "      <td>93.599695</td>\n",
       "      <td>96.790680</td>\n",
       "      <td>90.621535</td>\n",
       "    </tr>\n",
       "    <tr>\n",
       "      <th>Large (2000-5000)</th>\n",
       "      <td>77.746417</td>\n",
       "      <td>81.344493</td>\n",
       "      <td>69.963361</td>\n",
       "      <td>82.766634</td>\n",
       "      <td>58.286003</td>\n",
       "    </tr>\n",
       "  </tbody>\n",
       "</table>\n",
       "</div>"
      ],
      "text/plain": [
       "                    Average Math Score  Average Reading Score  % Passing Math  \\\n",
       "School Size                                                                     \n",
       "Small (<1000)                83.821598              83.929843       93.550225   \n",
       "Medium (1000-2000)           83.374684              83.864438       93.599695   \n",
       "Large (2000-5000)            77.746417              81.344493       69.963361   \n",
       "\n",
       "                    % Passing Reading  % Overall Passing  \n",
       "School Size                                               \n",
       "Small (<1000)               96.099437          89.883853  \n",
       "Medium (1000-2000)          96.790680          90.621535  \n",
       "Large (2000-5000)           82.766634          58.286003  "
      ]
     },
     "execution_count": 22,
     "metadata": {},
     "output_type": "execute_result"
    }
   ],
   "source": []
  },
  {
   "cell_type": "markdown",
   "metadata": {},
   "source": [
    "## Scores by School Type"
   ]
  },
  {
   "cell_type": "markdown",
   "metadata": {},
   "source": [
    "* Perform the same operations as above, based on school type"
   ]
  },
  {
   "cell_type": "code",
   "execution_count": 24,
   "metadata": {},
   "outputs": [
    {
     "data": {
      "text/html": [
       "<div>\n",
       "<style scoped>\n",
       "    .dataframe tbody tr th:only-of-type {\n",
       "        vertical-align: middle;\n",
       "    }\n",
       "\n",
       "    .dataframe tbody tr th {\n",
       "        vertical-align: top;\n",
       "    }\n",
       "\n",
       "    .dataframe thead th {\n",
       "        text-align: right;\n",
       "    }\n",
       "</style>\n",
       "<table border=\"1\" class=\"dataframe\">\n",
       "  <thead>\n",
       "    <tr style=\"text-align: right;\">\n",
       "      <th></th>\n",
       "      <th>Average Math Score</th>\n",
       "      <th>Average Reading Score</th>\n",
       "      <th>% Passing Math</th>\n",
       "      <th>% Passing Reading</th>\n",
       "      <th>% Overall Passing</th>\n",
       "    </tr>\n",
       "    <tr>\n",
       "      <th>School Type</th>\n",
       "      <th></th>\n",
       "      <th></th>\n",
       "      <th></th>\n",
       "      <th></th>\n",
       "      <th></th>\n",
       "    </tr>\n",
       "  </thead>\n",
       "  <tbody>\n",
       "    <tr>\n",
       "      <th>Charter</th>\n",
       "      <td>83.473852</td>\n",
       "      <td>83.896421</td>\n",
       "      <td>93.620830</td>\n",
       "      <td>96.586489</td>\n",
       "      <td>90.432244</td>\n",
       "    </tr>\n",
       "    <tr>\n",
       "      <th>District</th>\n",
       "      <td>76.956733</td>\n",
       "      <td>80.966636</td>\n",
       "      <td>66.548453</td>\n",
       "      <td>80.799062</td>\n",
       "      <td>53.672208</td>\n",
       "    </tr>\n",
       "  </tbody>\n",
       "</table>\n",
       "</div>"
      ],
      "text/plain": [
       "             Average Math Score  Average Reading Score  % Passing Math  \\\n",
       "School Type                                                              \n",
       "Charter               83.473852              83.896421       93.620830   \n",
       "District              76.956733              80.966636       66.548453   \n",
       "\n",
       "             % Passing Reading  % Overall Passing  \n",
       "School Type                                        \n",
       "Charter              96.586489          90.432244  \n",
       "District             80.799062          53.672208  "
      ]
     },
     "execution_count": 24,
     "metadata": {},
     "output_type": "execute_result"
    }
   ],
   "source": []
  },
  {
   "cell_type": "code",
   "execution_count": null,
   "metadata": {},
   "outputs": [],
   "source": []
  }
 ],
 "metadata": {
  "anaconda-cloud": {},
  "kernel_info": {
   "name": "python3"
  },
  "kernelspec": {
   "display_name": "Python 3",
   "language": "python",
   "name": "python3"
  },
  "language_info": {
   "codemirror_mode": {
    "name": "ipython",
    "version": 3
   },
   "file_extension": ".py",
   "mimetype": "text/x-python",
   "name": "python",
   "nbconvert_exporter": "python",
   "pygments_lexer": "ipython3",
   "version": "3.8.3-final"
  },
  "latex_envs": {
   "LaTeX_envs_menu_present": true,
   "autoclose": false,
   "autocomplete": true,
   "bibliofile": "biblio.bib",
   "cite_by": "apalike",
   "current_citInitial": 1,
   "eqLabelWithNumbers": true,
   "eqNumInitial": 1,
   "hotkeys": {
    "equation": "Ctrl-E",
    "itemize": "Ctrl-I"
   },
   "labels_anchors": false,
   "latex_user_defs": false,
   "report_style_numbering": false,
   "user_envs_cfg": false
  },
  "nteract": {
   "version": "0.8.4"
  }
 },
 "nbformat": 4,
 "nbformat_minor": 1
}